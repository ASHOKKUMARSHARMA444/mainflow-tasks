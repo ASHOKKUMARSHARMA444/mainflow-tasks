{
 "cells": [
  {
   "cell_type": "code",
   "execution_count": 2,
   "id": "fd282d02-de1c-46a3-b7e4-b937476a040e",
   "metadata": {},
   "outputs": [
    {
     "name": "stdout",
     "output_type": "stream",
     "text": [
      "Updated List: [20, 3, 4, 5, 6]\n"
     ]
    }
   ],
   "source": [
    "#Creating a list\n",
    "my_list= [1,2,3,4,5]\n",
    "\n",
    "#Adding an element to the list\n",
    "my_list.append(6)\n",
    "\n",
    "#Removing an element from the list\n",
    "my_list.remove(2)\n",
    "\n",
    "#Modifying an element in the list\n",
    "my_list[0]=20\n",
    "\n",
    "print(\"Updated List:\", my_list)\n"
   ]
  },
  {
   "cell_type": "code",
   "execution_count": 4,
   "id": "ad01fe7d-7619-4d84-b161-03b34191fa38",
   "metadata": {},
   "outputs": [
    {
     "name": "stdout",
     "output_type": "stream",
     "text": [
      "Updated Dictionary: {'name': 'Ashok', 'city': 'Tonk', 'gender': 'Male'}\n"
     ]
    }
   ],
   "source": [
    "#Creating a dictionary\n",
    "my_dict={'name':'Ashok','age':25,'city':'Jaipur'}\n",
    "\n",
    "#Adding\n",
    "my_dict['gender']='Male'\n",
    "\n",
    "#Removing\n",
    "del my_dict['age']\n",
    "\n",
    "#modifying\n",
    "my_dict['city']='Tonk'\n",
    "\n",
    "print(\"Updated Dictionary:\", my_dict)"
   ]
  },
  {
   "cell_type": "code",
   "execution_count": 14,
   "id": "16805d12-0aa5-49a1-8db8-b2d52cfb7683",
   "metadata": {},
   "outputs": [
    {
     "name": "stdout",
     "output_type": "stream",
     "text": [
      "Updated Set: {3, 4, 5, 25}\n"
     ]
    }
   ],
   "source": [
    "#Creating a set\n",
    "my_set={1,2,3,4}\n",
    "\n",
    "#Adding\n",
    "my_set.add(5)\n",
    "\n",
    "#Removing\n",
    "my_set.remove(2)\n",
    "\n",
    "#Modifying\n",
    "my_set.discard(1)\n",
    "my_set.add(25)\n",
    "\n",
    "print(\"Updated Set:\", my_set)"
   ]
  },
  {
   "cell_type": "code",
   "execution_count": null,
   "id": "724ed2ed-7bef-499a-9579-106489f4f268",
   "metadata": {},
   "outputs": [],
   "source": []
  }
 ],
 "metadata": {
  "kernelspec": {
   "display_name": "Python 3 (ipykernel)",
   "language": "python",
   "name": "python3"
  },
  "language_info": {
   "codemirror_mode": {
    "name": "ipython",
    "version": 3
   },
   "file_extension": ".py",
   "mimetype": "text/x-python",
   "name": "python",
   "nbconvert_exporter": "python",
   "pygments_lexer": "ipython3",
   "version": "3.12.4"
  }
 },
 "nbformat": 4,
 "nbformat_minor": 5
}
